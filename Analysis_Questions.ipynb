{
 "cells": [
  {
   "cell_type": "markdown",
   "metadata": {},
   "source": [
    "## Analysis Questions\n",
    "\n",
    "###### These are not questions to answer but rather starting points to explore what data might be important to collect.\n",
    "1. Did the length of the programs have a significant effect on the average NPS score of that location?\n",
    "2. Which tracks (out of the locations offered) received higher NPS scores?\n",
    "3. How does satisfaction with pacing vary by year and location?\n",
    "4. For every location, are there tracks that have significantly higher/lower statisfaction rates in comparison to the averages for the other tracks offered?\n",
    "5. How does \"likely to recommend\" average compare from 2016/2017?  "
   ]
  },
  {
   "cell_type": "code",
   "execution_count": null,
   "metadata": {
    "collapsed": true
   },
   "outputs": [],
   "source": []
  }
 ],
 "metadata": {
  "kernelspec": {
   "display_name": "Python 3",
   "language": "python",
   "name": "python3"
  },
  "language_info": {
   "codemirror_mode": {
    "name": "ipython",
    "version": 3
   },
   "file_extension": ".py",
   "mimetype": "text/x-python",
   "name": "python",
   "nbconvert_exporter": "python",
   "pygments_lexer": "ipython3",
   "version": "3.6.3"
  }
 },
 "nbformat": 4,
 "nbformat_minor": 2
}
